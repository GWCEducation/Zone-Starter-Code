{
 "cells": [
  {
   "cell_type": "code",
   "execution_count": null,
   "id": "1fa27b13",
   "metadata": {},
   "outputs": [],
   "source": [
    "import pandas as pd\n",
    "import matplotlib.pyplot as plt\n",
    "import numpy as np\n",
    "\n",
    "# Load the dataset\n",
    "df = pd.read_csv('fashion_mnist_20bal_train.csv')\n",
    "\n",
    "# which class to display\n",
    "class_number = 7\n",
    "\n",
    "# Filter the dataset for one class, and select the first 10 rows\n",
    "class_0_df = df[df['class'] == class_number].head(20)\n",
    "\n",
    "# Plotting the first 10 images of class 0\n",
    "fig, axes = plt.subplots(nrows=4, ncols=5, figsize=(6, 4))\n",
    "\n",
    "for i, row in enumerate(class_0_df.iterrows()):\n",
    "    image_data = row[1][1:].values  # Exclude the label\n",
    "    # Convert to unsigned integer for image display\n",
    "    image_data = image_data.astype(np.uint8)  \n",
    "    # Reshape the data into a 28x28 grid\n",
    "    image_28x28 = image_data.reshape(28, 28)  \n",
    "\n",
    "    # Plot each image\n",
    "    ax = axes[i // 5, i % 5]\n",
    "    ax.imshow(image_28x28, cmap='gray')\n",
    "    ax.axis('off')\n",
    "\n",
    "plt.tight_layout()\n",
    "plt.show()"
   ]
  }
 ],
 "metadata": {},
 "nbformat": 4,
 "nbformat_minor": 5
}
