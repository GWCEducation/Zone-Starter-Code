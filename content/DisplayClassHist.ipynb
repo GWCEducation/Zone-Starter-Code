{
 "cells": [
  {
   "cell_type": "code",
   "execution_count": null,
   "id": "d387f470",
   "metadata": {},
   "outputs": [],
   "source": [
    "import pandas as pd\n",
    "import matplotlib.pyplot as plt\n",
    "\n",
    "# Load the datasets - assuming they are in the current working directory\n",
    "# and have the filenames 'fashion_mnist_20bal_train.csv'\n",
    "train_data = pd.read_csv('fashion_mnist_20bal_train.csv')\n",
    "\n",
    "# Plot histograms for the 'class' column in both datasets\n",
    "plt.figure(figsize=(6, 4))\n",
    "\n",
    "# Histogram for the training data\n",
    "\n",
    "plt.hist(train_data['class'], bins=len(train_data['class'].unique()),\n",
    "         rwidth=0.8, alpha=0.7, color='blue')\n",
    "plt.title('Histogram of class column in training data')\n",
    "plt.xlabel('Class')\n",
    "plt.ylabel('Frequency')\n",
    "\n",
    "\n",
    "# Show the plot\n",
    "plt.tight_layout()\n",
    "plt.show()"
   ]
  }
 ],
 "metadata": {},
 "nbformat": 4,
 "nbformat_minor": 5
}
