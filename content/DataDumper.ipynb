{
 "cells": [
  {
   "cell_type": "code",
   "execution_count": null,
   "id": "f68994fb",
   "metadata": {},
   "outputs": [],
   "source": [
    "import matplotlib.pyplot as plt\n",
    "import numpy as np\n",
    "import pandas as pd\n",
    "\n",
    "df_train = pd.read_csv('fashion_mnist_20bal_train.csv')\n",
    "# Label is in the first column\n",
    "y_train = df_train.iloc[:, 0]  \n",
    "# Features are in all other columns, normalized\n",
    "X_train = df_train.iloc[:, 1:] / 255.0  \n",
    "\n",
    "print(df_train)"
   ]
  }
 ],
 "metadata": {},
 "nbformat": 4,
 "nbformat_minor": 5
}
